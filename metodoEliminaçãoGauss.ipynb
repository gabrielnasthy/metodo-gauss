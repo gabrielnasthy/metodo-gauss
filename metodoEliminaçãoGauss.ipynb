{
 "cells": [
  {
   "cell_type": "markdown",
   "id": "5e5b1ad7",
   "metadata": {},
   "source": [
    "<h1>Eliminação de Gauss com Python</h1>\n",
    "<table>\n",
    "  <tr>\n",
    "    <td><b>Aluno:</b></td><td>Gabriel A. Rocha (ragproggramer)</td>\n",
    "  </tr>\n",
    "  <tr>\n",
    "    <td><b>Turma:</b></td><td>3º Semestre Eng. Eletrica</td>\n",
    "  </tr>\n",
    "  <tr>\n",
    "    <td><b>Professor:</b></td><td>Leonardo</td>\n",
    "  </tr>\n",
    "  <tr>\n",
    "    <td><b>Data de Hoje:</b></td><td>20/06/2025</td>\n",
    "  </tr>\n",
    "  <tr>\n",
    "    <td><b>Data de Entrega:</b></td><td>20/06/2025</td>\n",
    "  </tr>\n",
    "</table>\n",
    "<hr>\n",
    "<p>Este notebook apresenta o passo a passo para resolver sistemas lineares usando o método da eliminação de Gauss.</p>\n"
   ]
  },
  {
   "cell_type": "markdown",
   "id": "ccfc75c6",
   "metadata": {},
   "source": [
    "<h2>🎯 Objetivo</h2>\n",
    "<p>Neste trabalho, implementaremos passo a passo o método da eliminação de Gauss com pivoteamento parcial para resolver sistemas lineares.\n",
    "\n",
    "## 🧮 Sistema a ser resolvido proposto pelo professor\n",
    "\n",
    "Vamos resolver o seguinte sistema:\n",
    "\\begin{cases}\n",
    "-1x_1 - 1x_2 + 2x_3 - 1x_4 = -8 \\\\\n",
    "+1x_1 + 1x_2 + 0x_3 + 0x_4 = 1 \\\\\n",
    "+1x_1 + 1x_2 + 1x_3 - 1x_4 = -6 \\\\\n",
    "-2x_1 + 3x_2 + 2x_3 - 2x_4 = -2 \\\\\n",
    "\\end{cases}\n",
    "\n"
   ]
  },
  {
   "cell_type": "code",
   "execution_count": 2,
   "id": "08f81a36",
   "metadata": {
    "notebookRunGroups": {
     "groupValue": "1"
    }
   },
   "outputs": [],
   "source": [
    "import numpy as np # Importando a biblioteca NumPy\n",
    "\n",
    "# Matriz A (coeficientes) \n",
    "A = np.array([\n",
    "    [-1, -1, 2, -1], \n",
    "    [1, 1, 0, 0], \n",
    "    [1, 1, 1, -1],\n",
    "    [-2, 3, 2, -2]\n",
    "])\n",
    "# Vetor b (igualdade)\n",
    "b = np.array([[-8], [1], [-6], [-2]])"
   ]
  },
  {
   "cell_type": "markdown",
   "id": "05b5dbca",
   "metadata": {},
   "source": [
    "<h2>📌 Etapa 1: Construção da Matriz Aumentada</h2>\n",
    "<p>Vamos unir a matriz de coeficientes <code>A</code> com o vetor de termos independentes <code>b</code>, formando a matriz aumentada <code>[A | b]</code>.</p>\n"
   ]
  },
  {
   "cell_type": "code",
   "execution_count": 3,
   "id": "626fad6a",
   "metadata": {
    "notebookRunGroups": {
     "groupValue": "1"
    }
   },
   "outputs": [
    {
     "name": "stdout",
     "output_type": "stream",
     "text": [
      "Matriz aumentada [A | b]:\n",
      " [[-1. -1.  2. -1. -8.]\n",
      " [ 1.  1.  0.  0.  1.]\n",
      " [ 1.  1.  1. -1. -6.]\n",
      " [-2.  3.  2. -2. -2.]]\n"
     ]
    }
   ],
   "source": [
    "def matriz_aumentada(A, b):\n",
    "    return np.column_stack((A, b)).astype(float)\n",
    "\n",
    "Ab = matriz_aumentada(A, b)\n",
    "print(\"Matriz aumentada [A | b]:\\n\", Ab)"
   ]
  },
  {
   "cell_type": "markdown",
   "id": "9da7e4a5",
   "metadata": {},
   "source": [
    "<h2>🔧 Etapa 2: Eliminação de Gauss com Pivoteamento</h2>\n",
    "<p>Nesta etapa, aplicamos o escalonamento com <strong>pivoteamento parcial</strong>, ou seja, trocamos as linhas para garantir que o maior elemento (em módulo) da coluna pivô esteja na diagonal. Isso evita divisões por números muito pequenos e melhora a estabilidade numérica.</p>\n"
   ]
  },
  {
   "cell_type": "code",
   "execution_count": 4,
   "id": "9036e6f2",
   "metadata": {
    "notebookRunGroups": {
     "groupValue": "1"
    }
   },
   "outputs": [],
   "source": [
    "def eliminacao_pivoteamento(A):\n",
    "    N = len(A)\n",
    "    for i in range(N):\n",
    "        # Pivoteamento parcial (troca de linhas)\n",
    "        max_index = i + np.argmax(np.abs(A[i:, i]))\n",
    "        if max_index != i:\n",
    "            A[[i, max_index]] = A[[max_index, i]]\n",
    "\n",
    "        # Escalonamento\n",
    "        for j in range(i + 1, N):\n",
    "            fator = A[j, i] / A[i, i]\n",
    "            A[j, i:] = A[j, i:] - fator * A[i, i:]\n",
    "            A[j, i] = 0.0  # Correção para evitar lixo numérico\n",
    "    return A\n"
   ]
  },
  {
   "cell_type": "markdown",
   "id": "1a576b9c",
   "metadata": {},
   "source": [
    "<h2>🔄 Etapa 3: Substituição Regressiva</h2>\n",
    "<p>Com a matriz em forma triangular superior, utilizamos substituição de trás para frente para encontrar os valores de <code>x</code>.</p>\n",
    "<pre>\n",
    "x_n = b_n / a_nn\n",
    "x_{n-1} = (b_{n-1} - a_{n-1,n}x_n) / a_{n-1,n-1}\n",
    "...\n",
    "</pre>\n"
   ]
  },
  {
   "cell_type": "code",
   "execution_count": 5,
   "id": "a22cfef1",
   "metadata": {
    "notebookRunGroups": {
     "groupValue": "1"
    }
   },
   "outputs": [],
   "source": [
    "def substituicao_regressiva(A):\n",
    "    N = len(A)\n",
    "    for i in range(N - 1, -1, -1):\n",
    "        for j in range(N - 1, i, -1):\n",
    "            A[i, -1] -= A[i, j] * A[j, -1]\n",
    "        A[i, -1] /= A[i, i]\n",
    "    return A[:, -1]\n"
   ]
  },
  {
   "cell_type": "markdown",
   "id": "37200269",
   "metadata": {},
   "source": [
    "<h2>✅ Etapa Final: Solução do Sistema</h2>\n",
    "<p>Agora unimos todas as etapas em uma função que resolve o sistema linear completo.</p>\n"
   ]
  },
  {
   "cell_type": "code",
   "execution_count": 8,
   "id": "430789d8",
   "metadata": {
    "notebookRunGroups": {
     "groupValue": "1"
    }
   },
   "outputs": [
    {
     "name": "stdout",
     "output_type": "stream",
     "text": [
      "Solução do sistema: \n",
      " [-1.8  2.8  0.   7. ]\n",
      "O método convergiu para uma solução.\n"
     ]
    }
   ],
   "source": [
    "def gauss(A, b):\n",
    "    Ab = matriz_aumentada(A, b)\n",
    "    Ab = eliminacao_pivoteamento(Ab)\n",
    "    x = substituicao_regressiva(Ab)\n",
    "    return x\n",
    "\n",
    "# Executando o método de eliminação de Gauss\n",
    "x = gauss(A, b)\n",
    "\n",
    "print(\"Solução do sistema: \\n\", x)\n",
    "if np.all(np.isfinite(x)):\n",
    "    print(\"O método convergiu para uma solução.\")\n",
    "else:\n",
    "    print(\"O método não convergiu.\")\n"
   ]
  },
  {
   "cell_type": "markdown",
   "id": "933a53c1",
   "metadata": {},
   "source": [
    "<h2>📝 Conclusão</h2>\n",
    "<p>Com este notebook, implementamos a eliminação de Gauss com pivoteamento parcial para resolver sistemas lineares. A técnica garante mais estabilidade numérica e evita erros em casos com divisores pequenos.</p>\n"
   ]
  }
 ],
 "metadata": {
  "kernelspec": {
   "display_name": "Python 3",
   "language": "python",
   "name": "python3"
  },
  "language_info": {
   "codemirror_mode": {
    "name": "ipython",
    "version": 3
   },
   "file_extension": ".py",
   "mimetype": "text/x-python",
   "name": "python",
   "nbconvert_exporter": "python",
   "pygments_lexer": "ipython3",
   "version": "3.13.3"
  }
 },
 "nbformat": 4,
 "nbformat_minor": 5
}
